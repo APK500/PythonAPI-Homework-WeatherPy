{
 "cells": [
  {
   "cell_type": "code",
   "execution_count": null,
   "metadata": {},
   "outputs": [],
   "source": [
    "# IMPORT OUR DEPENDENCIES:  \n",
    "\n",
    "#To create our randomly-selected coordinates:\n",
    "import random\n",
    "import requests\n",
    "import numpy as np\n",
    "\n",
    "\n",
    "#To hold our data and create dataframes:\n",
    "import pandas as pd\n",
    "\n",
    "\n",
    "#Our API keys, and citipy (newly installed for project), to import the city weather-data.\n",
    "from config import api_key\n",
    "from citipy import citipy as cp\n",
    "\n",
    "\n",
    "#And to plot our data:\n",
    "import matplotlib.pyplot as plt\n",
    "import matplotlib\n",
    "\n",
    "\n",
    "#Last, for any formating of plots (they may be needed):\n",
    "import seaborn\n",
    "\n"
   ]
  },
  {
   "cell_type": "code",
   "execution_count": null,
   "metadata": {},
   "outputs": [],
   "source": [
    "# GETTING A RANDOM SET OF COORDINATES TO USE FOR CALLING ON CITY WEATHER: \n",
    "\n",
    "# First we define the Latitude & Longitude Zones use numpy to select coordinates at random, given the ranges:\n",
    "lat_zone = np.arange(-90,90,15)\n",
    "lon_zone = np.arange(-200,200,15)\n"
   ]
  },
  {
   "cell_type": "code",
   "execution_count": null,
   "metadata": {},
   "outputs": [],
   "source": [
    "# DATAFRAME TO HOLD OUR COORDINATES:\n",
    "\n",
    "# Create our list/Pandas DataFrame & calling it \"cities\" which will hold the coordinates to their city.\n",
    "\n",
    "\n",
    "cities_df = pd.DataFrame()\n",
    "\n",
    "cities_df[\"Latitude\"] = \"\"\n",
    "cities_df[\"Longitude\"] = \"\"\n",
    "\n"
   ]
  },
  {
   "cell_type": "code",
   "execution_count": null,
   "metadata": {},
   "outputs": [],
   "source": [
    "# COORDINATE SELECTION!\n",
    "\n",
    "# First, using a coordinate systen we will assign \"X\" for latitude, and \"Y\" for long.\n",
    "# For both latitude \"X\" & longitude \"Y\", we randomly select **(50 ?) unique coordinates:\n",
    "# **For the random sample we collect, we will assign \"lats\" for X and \"lons\" for y.\n",
    "# We then will create/append the lists, \"lat_samples\" and \"lon_samples\", to use in dataframes.\n",
    "\n",
    "for x in lat_zone:\n",
    "    for y in lon_zone:\n",
    "        x_values = list(np.arange(x,x+15,0.01))\n",
    "        y_values = list(np.arange(y,y+15,0.01))\n",
    "        lats = random.sample(x_values,50)\n",
    "        lons = random.sample(y_values,50)\n",
    "        lat_samples = [(x+dec_lat) for dec_lat in lats]\n",
    "        lon_samples = [y+dec_lon for dec_lon in lons]\n",
    "        cities_df = cities_df.append(pd.DataFrame.from_dict({\"Latitude\":lat_samples,\n",
    "                                       \"Longitude\":lon_samples}))\n",
    "\n",
    "# We then place the coordinates into our \"cities\" dataframe that was created above.        \n",
    "cities_df = cities_df.reset_index(drop=True)\n",
    "\n",
    "# IS THIS LINE NECC ??\n",
    "cities_df.shape"
   ]
  },
  {
   "cell_type": "code",
   "execution_count": null,
   "metadata": {},
   "outputs": [],
   "source": [
    "# USING CITIPY MODULE TO TIE COORDINATES TO A CORRESPONDING/NEARBY CITY:\n",
    "\n",
    "cities_df[\"Closest City name\"] = \"\"\n",
    "cities_df[\"Closest Country code\"] = \"\"\n",
    "for index,row in cities_df.iterrows():\n",
    "    city = citipy.nearest_city(row[\"Latitude\"],row[\"Longitude\"])\n",
    "    cities_df.set_value(index,\"Closest City name\",city.city_name)\n",
    "    cities_df.set_value(index,\"Closest Country code\",city.country_code)"
   ]
  },
  {
   "cell_type": "code",
   "execution_count": null,
   "metadata": {},
   "outputs": [],
   "source": [
    "# CLEANING THE DATAFRAME: ELIMINATE COORDINATE-SETS THAT DON'T YIELD NEARBY CITIES:\n",
    "\n",
    "\n",
    "# First we create a new data frame that eliminates coordinates that aren't near any city:\n",
    "# ..Calling it \"clean_cities\":\n",
    "clean_cities_df = cities_df.drop(['Latitude', 'Longitude'],axis=1)\n",
    "clean_cities_df\n",
    "\n",
    "# Next we filter for any possible duplicates (cities that come twice)\n",
    "clean_cities_df = clean_cities_df.drop_duplicates()\n",
    "\n",
    "# **Neccesary?\n",
    "clean_cities_df.shape"
   ]
  }
 ],
 "metadata": {
  "kernelspec": {
   "display_name": "Python 3",
   "language": "python",
   "name": "python3"
  },
  "language_info": {
   "codemirror_mode": {
    "name": "ipython",
    "version": 3
   },
   "file_extension": ".py",
   "mimetype": "text/x-python",
   "name": "python",
   "nbconvert_exporter": "python",
   "pygments_lexer": "ipython3",
   "version": "3.6.4"
  }
 },
 "nbformat": 4,
 "nbformat_minor": 2
}
